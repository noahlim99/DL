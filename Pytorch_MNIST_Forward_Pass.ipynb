{
  "nbformat": 4,
  "nbformat_minor": 0,
  "metadata": {
    "colab": {
      "provenance": [],
      "authorship_tag": "ABX9TyMg5hfvFl+jfPcRbE5zT/TH",
      "include_colab_link": true
    },
    "kernelspec": {
      "name": "python3",
      "display_name": "Python 3"
    },
    "language_info": {
      "name": "python"
    }
  },
  "cells": [
    {
      "cell_type": "markdown",
      "metadata": {
        "id": "view-in-github",
        "colab_type": "text"
      },
      "source": [
        "<a href=\"https://colab.research.google.com/github/noahlim99/DL/blob/main/Pytorch_MNIST_Forward_Pass.ipynb\" target=\"_parent\"><img src=\"https://colab.research.google.com/assets/colab-badge.svg\" alt=\"Open In Colab\"/></a>"
      ]
    },
    {
      "cell_type": "code",
      "execution_count": null,
      "metadata": {
        "id": "nGyi_CCkOOpO"
      },
      "outputs": [],
      "source": [
        "import torch\n",
        "from torchvision import datasets, transforms\n",
        "import numpy as np\n",
        "import matplotlib.pyplot as plt"
      ]
    },
    {
      "cell_type": "code",
      "source": [
        "torch.manual_seed(316)"
      ],
      "metadata": {
        "colab": {
          "base_uri": "https://localhost:8080/"
        },
        "id": "-k7C2u9aOhx4",
        "outputId": "d87722de-cb44-4ef7-df07-0fd9c2a47ea9"
      },
      "execution_count": null,
      "outputs": [
        {
          "output_type": "execute_result",
          "data": {
            "text/plain": [
              "<torch._C.Generator at 0x7da43bf90cf0>"
            ]
          },
          "metadata": {},
          "execution_count": 2
        }
      ]
    },
    {
      "cell_type": "code",
      "source": [
        "transform = transforms.Compose(\n",
        "    [\n",
        "        transforms.ToTensor(),\n",
        "        transforms.Normalize((0.5,), (0.5)),\n",
        "    ]\n",
        ")"
      ],
      "metadata": {
        "id": "F6C1kBweOmgt"
      },
      "execution_count": null,
      "outputs": []
    },
    {
      "cell_type": "code",
      "source": [
        "trainset = datasets.MNIST('.', download=True, train=True, transform=transform)"
      ],
      "metadata": {
        "colab": {
          "base_uri": "https://localhost:8080/"
        },
        "id": "Of61YDPJO_ZL",
        "outputId": "e84dd54c-df50-49e0-c335-2d57a022f601"
      },
      "execution_count": null,
      "outputs": [
        {
          "output_type": "stream",
          "name": "stdout",
          "text": [
            "Downloading http://yann.lecun.com/exdb/mnist/train-images-idx3-ubyte.gz\n",
            "Failed to download (trying next):\n",
            "HTTP Error 403: Forbidden\n",
            "\n",
            "Downloading https://ossci-datasets.s3.amazonaws.com/mnist/train-images-idx3-ubyte.gz\n",
            "Downloading https://ossci-datasets.s3.amazonaws.com/mnist/train-images-idx3-ubyte.gz to ./MNIST/raw/train-images-idx3-ubyte.gz\n"
          ]
        },
        {
          "output_type": "stream",
          "name": "stderr",
          "text": [
            "100%|██████████| 9912422/9912422 [00:01<00:00, 5473913.12it/s]\n"
          ]
        },
        {
          "output_type": "stream",
          "name": "stdout",
          "text": [
            "Extracting ./MNIST/raw/train-images-idx3-ubyte.gz to ./MNIST/raw\n",
            "\n",
            "Downloading http://yann.lecun.com/exdb/mnist/train-labels-idx1-ubyte.gz\n",
            "Failed to download (trying next):\n",
            "HTTP Error 403: Forbidden\n",
            "\n",
            "Downloading https://ossci-datasets.s3.amazonaws.com/mnist/train-labels-idx1-ubyte.gz\n",
            "Downloading https://ossci-datasets.s3.amazonaws.com/mnist/train-labels-idx1-ubyte.gz to ./MNIST/raw/train-labels-idx1-ubyte.gz\n"
          ]
        },
        {
          "output_type": "stream",
          "name": "stderr",
          "text": [
            "100%|██████████| 28881/28881 [00:00<00:00, 160340.78it/s]\n"
          ]
        },
        {
          "output_type": "stream",
          "name": "stdout",
          "text": [
            "Extracting ./MNIST/raw/train-labels-idx1-ubyte.gz to ./MNIST/raw\n",
            "\n",
            "Downloading http://yann.lecun.com/exdb/mnist/t10k-images-idx3-ubyte.gz\n",
            "Failed to download (trying next):\n",
            "HTTP Error 403: Forbidden\n",
            "\n",
            "Downloading https://ossci-datasets.s3.amazonaws.com/mnist/t10k-images-idx3-ubyte.gz\n",
            "Downloading https://ossci-datasets.s3.amazonaws.com/mnist/t10k-images-idx3-ubyte.gz to ./MNIST/raw/t10k-images-idx3-ubyte.gz\n"
          ]
        },
        {
          "output_type": "stream",
          "name": "stderr",
          "text": [
            "100%|██████████| 1648877/1648877 [00:01<00:00, 1298098.08it/s]\n"
          ]
        },
        {
          "output_type": "stream",
          "name": "stdout",
          "text": [
            "Extracting ./MNIST/raw/t10k-images-idx3-ubyte.gz to ./MNIST/raw\n",
            "\n",
            "Downloading http://yann.lecun.com/exdb/mnist/t10k-labels-idx1-ubyte.gz\n",
            "Failed to download (trying next):\n",
            "HTTP Error 403: Forbidden\n",
            "\n",
            "Downloading https://ossci-datasets.s3.amazonaws.com/mnist/t10k-labels-idx1-ubyte.gz\n",
            "Downloading https://ossci-datasets.s3.amazonaws.com/mnist/t10k-labels-idx1-ubyte.gz to ./MNIST/raw/t10k-labels-idx1-ubyte.gz\n"
          ]
        },
        {
          "output_type": "stream",
          "name": "stderr",
          "text": [
            "100%|██████████| 4542/4542 [00:00<00:00, 2512268.07it/s]"
          ]
        },
        {
          "output_type": "stream",
          "name": "stdout",
          "text": [
            "Extracting ./MNIST/raw/t10k-labels-idx1-ubyte.gz to ./MNIST/raw\n",
            "\n"
          ]
        },
        {
          "output_type": "stream",
          "name": "stderr",
          "text": [
            "\n"
          ]
        }
      ]
    },
    {
      "cell_type": "code",
      "source": [
        "len(trainset)"
      ],
      "metadata": {
        "colab": {
          "base_uri": "https://localhost:8080/"
        },
        "id": "_sDCU_3qPRCs",
        "outputId": "c1d9c535-9a49-48f6-f3c6-c695a3835a9c"
      },
      "execution_count": null,
      "outputs": [
        {
          "output_type": "execute_result",
          "data": {
            "text/plain": [
              "60000"
            ]
          },
          "metadata": {},
          "execution_count": 8
        }
      ]
    },
    {
      "cell_type": "code",
      "source": [
        "batch_size = 64\n",
        "trainloader = torch.utils.data.DataLoader(trainset, batch_size=batch_size, shuffle=True)"
      ],
      "metadata": {
        "id": "7ghwR88FPT4L"
      },
      "execution_count": null,
      "outputs": []
    },
    {
      "cell_type": "code",
      "source": [
        "images, labels = next(iter(trainloader))"
      ],
      "metadata": {
        "id": "mN1CBdoiPcFc"
      },
      "execution_count": null,
      "outputs": []
    },
    {
      "cell_type": "code",
      "source": [
        "print(type(images))\n",
        "print(images.shape)\n",
        "print(labels.shape)"
      ],
      "metadata": {
        "colab": {
          "base_uri": "https://localhost:8080/"
        },
        "id": "7M6ANa4vPl4w",
        "outputId": "96bf1677-e2b7-4ba4-835a-8ed70b4416f7"
      },
      "execution_count": null,
      "outputs": [
        {
          "output_type": "stream",
          "name": "stdout",
          "text": [
            "<class 'torch.Tensor'>\n",
            "torch.Size([64, 1, 28, 28])\n",
            "torch.Size([64])\n"
          ]
        }
      ]
    },
    {
      "cell_type": "code",
      "source": [
        "image1 = images[0]\n",
        "image2 = images[1]"
      ],
      "metadata": {
        "id": "LuFf6LeTPyYi"
      },
      "execution_count": null,
      "outputs": []
    },
    {
      "cell_type": "code",
      "source": [
        "image1.shape"
      ],
      "metadata": {
        "colab": {
          "base_uri": "https://localhost:8080/"
        },
        "id": "m3RJahRQP5Pk",
        "outputId": "8adfed7b-3498-4eaa-9136-bd0f481c2ddf"
      },
      "execution_count": null,
      "outputs": [
        {
          "output_type": "execute_result",
          "data": {
            "text/plain": [
              "torch.Size([1, 28, 28])"
            ]
          },
          "metadata": {},
          "execution_count": 18
        }
      ]
    },
    {
      "cell_type": "code",
      "source": [
        "plt.imshow(image1)"
      ],
      "metadata": {
        "colab": {
          "base_uri": "https://localhost:8080/",
          "height": 711
        },
        "id": "IUuIQ88tQBGt",
        "outputId": "5648aa2e-f5ae-4242-8305-00ae05d0073f"
      },
      "execution_count": null,
      "outputs": [
        {
          "output_type": "error",
          "ename": "TypeError",
          "evalue": "Invalid shape (1, 28, 28) for image data",
          "traceback": [
            "\u001b[0;31m---------------------------------------------------------------------------\u001b[0m",
            "\u001b[0;31mTypeError\u001b[0m                                 Traceback (most recent call last)",
            "\u001b[0;32m<ipython-input-19-a4a207e6c4ad>\u001b[0m in \u001b[0;36m<cell line: 1>\u001b[0;34m()\u001b[0m\n\u001b[0;32m----> 1\u001b[0;31m \u001b[0mplt\u001b[0m\u001b[0;34m.\u001b[0m\u001b[0mimshow\u001b[0m\u001b[0;34m(\u001b[0m\u001b[0mimage1\u001b[0m\u001b[0;34m)\u001b[0m\u001b[0;34m\u001b[0m\u001b[0;34m\u001b[0m\u001b[0m\n\u001b[0m",
            "\u001b[0;32m/usr/local/lib/python3.10/dist-packages/matplotlib/pyplot.py\u001b[0m in \u001b[0;36mimshow\u001b[0;34m(X, cmap, norm, aspect, interpolation, alpha, vmin, vmax, origin, extent, interpolation_stage, filternorm, filterrad, resample, url, data, **kwargs)\u001b[0m\n\u001b[1;32m   2693\u001b[0m         \u001b[0minterpolation_stage\u001b[0m\u001b[0;34m=\u001b[0m\u001b[0;32mNone\u001b[0m\u001b[0;34m,\u001b[0m \u001b[0mfilternorm\u001b[0m\u001b[0;34m=\u001b[0m\u001b[0;32mTrue\u001b[0m\u001b[0;34m,\u001b[0m \u001b[0mfilterrad\u001b[0m\u001b[0;34m=\u001b[0m\u001b[0;36m4.0\u001b[0m\u001b[0;34m,\u001b[0m\u001b[0;34m\u001b[0m\u001b[0;34m\u001b[0m\u001b[0m\n\u001b[1;32m   2694\u001b[0m         resample=None, url=None, data=None, **kwargs):\n\u001b[0;32m-> 2695\u001b[0;31m     __ret = gca().imshow(\n\u001b[0m\u001b[1;32m   2696\u001b[0m         \u001b[0mX\u001b[0m\u001b[0;34m,\u001b[0m \u001b[0mcmap\u001b[0m\u001b[0;34m=\u001b[0m\u001b[0mcmap\u001b[0m\u001b[0;34m,\u001b[0m \u001b[0mnorm\u001b[0m\u001b[0;34m=\u001b[0m\u001b[0mnorm\u001b[0m\u001b[0;34m,\u001b[0m \u001b[0maspect\u001b[0m\u001b[0;34m=\u001b[0m\u001b[0maspect\u001b[0m\u001b[0;34m,\u001b[0m\u001b[0;34m\u001b[0m\u001b[0;34m\u001b[0m\u001b[0m\n\u001b[1;32m   2697\u001b[0m         \u001b[0minterpolation\u001b[0m\u001b[0;34m=\u001b[0m\u001b[0minterpolation\u001b[0m\u001b[0;34m,\u001b[0m \u001b[0malpha\u001b[0m\u001b[0;34m=\u001b[0m\u001b[0malpha\u001b[0m\u001b[0;34m,\u001b[0m \u001b[0mvmin\u001b[0m\u001b[0;34m=\u001b[0m\u001b[0mvmin\u001b[0m\u001b[0;34m,\u001b[0m\u001b[0;34m\u001b[0m\u001b[0;34m\u001b[0m\u001b[0m\n",
            "\u001b[0;32m/usr/local/lib/python3.10/dist-packages/matplotlib/__init__.py\u001b[0m in \u001b[0;36minner\u001b[0;34m(ax, data, *args, **kwargs)\u001b[0m\n\u001b[1;32m   1440\u001b[0m     \u001b[0;32mdef\u001b[0m \u001b[0minner\u001b[0m\u001b[0;34m(\u001b[0m\u001b[0max\u001b[0m\u001b[0;34m,\u001b[0m \u001b[0;34m*\u001b[0m\u001b[0margs\u001b[0m\u001b[0;34m,\u001b[0m \u001b[0mdata\u001b[0m\u001b[0;34m=\u001b[0m\u001b[0;32mNone\u001b[0m\u001b[0;34m,\u001b[0m \u001b[0;34m**\u001b[0m\u001b[0mkwargs\u001b[0m\u001b[0;34m)\u001b[0m\u001b[0;34m:\u001b[0m\u001b[0;34m\u001b[0m\u001b[0;34m\u001b[0m\u001b[0m\n\u001b[1;32m   1441\u001b[0m         \u001b[0;32mif\u001b[0m \u001b[0mdata\u001b[0m \u001b[0;32mis\u001b[0m \u001b[0;32mNone\u001b[0m\u001b[0;34m:\u001b[0m\u001b[0;34m\u001b[0m\u001b[0;34m\u001b[0m\u001b[0m\n\u001b[0;32m-> 1442\u001b[0;31m             \u001b[0;32mreturn\u001b[0m \u001b[0mfunc\u001b[0m\u001b[0;34m(\u001b[0m\u001b[0max\u001b[0m\u001b[0;34m,\u001b[0m \u001b[0;34m*\u001b[0m\u001b[0mmap\u001b[0m\u001b[0;34m(\u001b[0m\u001b[0msanitize_sequence\u001b[0m\u001b[0;34m,\u001b[0m \u001b[0margs\u001b[0m\u001b[0;34m)\u001b[0m\u001b[0;34m,\u001b[0m \u001b[0;34m**\u001b[0m\u001b[0mkwargs\u001b[0m\u001b[0;34m)\u001b[0m\u001b[0;34m\u001b[0m\u001b[0;34m\u001b[0m\u001b[0m\n\u001b[0m\u001b[1;32m   1443\u001b[0m \u001b[0;34m\u001b[0m\u001b[0m\n\u001b[1;32m   1444\u001b[0m         \u001b[0mbound\u001b[0m \u001b[0;34m=\u001b[0m \u001b[0mnew_sig\u001b[0m\u001b[0;34m.\u001b[0m\u001b[0mbind\u001b[0m\u001b[0;34m(\u001b[0m\u001b[0max\u001b[0m\u001b[0;34m,\u001b[0m \u001b[0;34m*\u001b[0m\u001b[0margs\u001b[0m\u001b[0;34m,\u001b[0m \u001b[0;34m**\u001b[0m\u001b[0mkwargs\u001b[0m\u001b[0;34m)\u001b[0m\u001b[0;34m\u001b[0m\u001b[0;34m\u001b[0m\u001b[0m\n",
            "\u001b[0;32m/usr/local/lib/python3.10/dist-packages/matplotlib/axes/_axes.py\u001b[0m in \u001b[0;36mimshow\u001b[0;34m(self, X, cmap, norm, aspect, interpolation, alpha, vmin, vmax, origin, extent, interpolation_stage, filternorm, filterrad, resample, url, **kwargs)\u001b[0m\n\u001b[1;32m   5663\u001b[0m                               **kwargs)\n\u001b[1;32m   5664\u001b[0m \u001b[0;34m\u001b[0m\u001b[0m\n\u001b[0;32m-> 5665\u001b[0;31m         \u001b[0mim\u001b[0m\u001b[0;34m.\u001b[0m\u001b[0mset_data\u001b[0m\u001b[0;34m(\u001b[0m\u001b[0mX\u001b[0m\u001b[0;34m)\u001b[0m\u001b[0;34m\u001b[0m\u001b[0;34m\u001b[0m\u001b[0m\n\u001b[0m\u001b[1;32m   5666\u001b[0m         \u001b[0mim\u001b[0m\u001b[0;34m.\u001b[0m\u001b[0mset_alpha\u001b[0m\u001b[0;34m(\u001b[0m\u001b[0malpha\u001b[0m\u001b[0;34m)\u001b[0m\u001b[0;34m\u001b[0m\u001b[0;34m\u001b[0m\u001b[0m\n\u001b[1;32m   5667\u001b[0m         \u001b[0;32mif\u001b[0m \u001b[0mim\u001b[0m\u001b[0;34m.\u001b[0m\u001b[0mget_clip_path\u001b[0m\u001b[0;34m(\u001b[0m\u001b[0;34m)\u001b[0m \u001b[0;32mis\u001b[0m \u001b[0;32mNone\u001b[0m\u001b[0;34m:\u001b[0m\u001b[0;34m\u001b[0m\u001b[0;34m\u001b[0m\u001b[0m\n",
            "\u001b[0;32m/usr/local/lib/python3.10/dist-packages/matplotlib/image.py\u001b[0m in \u001b[0;36mset_data\u001b[0;34m(self, A)\u001b[0m\n\u001b[1;32m    708\u001b[0m         if not (self._A.ndim == 2\n\u001b[1;32m    709\u001b[0m                 or self._A.ndim == 3 and self._A.shape[-1] in [3, 4]):\n\u001b[0;32m--> 710\u001b[0;31m             raise TypeError(\"Invalid shape {} for image data\"\n\u001b[0m\u001b[1;32m    711\u001b[0m                             .format(self._A.shape))\n\u001b[1;32m    712\u001b[0m \u001b[0;34m\u001b[0m\u001b[0m\n",
            "\u001b[0;31mTypeError\u001b[0m: Invalid shape (1, 28, 28) for image data"
          ]
        },
        {
          "output_type": "display_data",
          "data": {
            "text/plain": [
              "<Figure size 640x480 with 1 Axes>"
            ],
            "image/png": "[encoded data removed]"
          },
          "metadata": {}
        }
      ]
    },
    {
      "cell_type": "code",
      "source": [
        "plt.imshow(image1.squeeze())"
      ],
      "metadata": {
        "colab": {
          "base_uri": "https://localhost:8080/",
          "height": 448
        },
        "id": "VabLUYiYQGOi",
        "outputId": "7a88e7a2-9d3b-45a1-fd91-801e1aa45b74"
      },
      "execution_count": null,
      "outputs": [
        {
          "output_type": "execute_result",
          "data": {
            "text/plain": [
              "<matplotlib.image.AxesImage at 0x7da38fe20bb0>"
            ]
          },
          "metadata": {},
          "execution_count": 20
        },
        {
          "output_type": "display_data",
          "data": {
            "text/plain": [
              "<Figure size 640x480 with 1 Axes>"
            ],
            "image/png": "[encoded data removed]"
          },
          "metadata": {}
        }
      ]
    },
    {
      "cell_type": "code",
      "source": [
        "plt.imshow(image1.squeeze(), cmap='Greys_r')"
      ],
      "metadata": {
        "colab": {
          "base_uri": "https://localhost:8080/",
          "height": 448
        },
        "id": "q24KewVyQM1N",
        "outputId": "4c67b347-fd3e-4d32-b386-fd7c2ee3a6bb"
      },
      "execution_count": null,
      "outputs": [
        {
          "output_type": "execute_result",
          "data": {
            "text/plain": [
              "<matplotlib.image.AxesImage at 0x7da38fe23c70>"
            ]
          },
          "metadata": {},
          "execution_count": 22
        },
        {
          "output_type": "display_data",
          "data": {
            "text/plain": [
              "<Figure size 640x480 with 1 Axes>"
            ],
            "image/png": "[encoded data removed]"
          },
          "metadata": {}
        }
      ]
    },
    {
      "cell_type": "code",
      "source": [
        "print(labels)"
      ],
      "metadata": {
        "colab": {
          "base_uri": "https://localhost:8080/"
        },
        "id": "s4ml5zHCQZft",
        "outputId": "60ca1138-cddc-4e20-d54d-d91e3cf691e8"
      },
      "execution_count": null,
      "outputs": [
        {
          "output_type": "stream",
          "name": "stdout",
          "text": [
            "tensor([9, 2, 6, 5, 6, 8, 9, 3, 5, 0, 5, 5, 5, 6, 7, 4, 9, 8, 9, 6, 1, 0, 3, 2,\n",
            "        9, 5, 6, 7, 7, 9, 7, 8, 7, 1, 5, 0, 4, 4, 0, 9, 1, 2, 3, 5, 6, 7, 9, 9,\n",
            "        5, 4, 7, 6, 5, 0, 1, 3, 9, 2, 6, 1, 1, 8, 3, 5])\n"
          ]
        }
      ]
    },
    {
      "cell_type": "code",
      "source": [
        "images.shape"
      ],
      "metadata": {
        "colab": {
          "base_uri": "https://localhost:8080/"
        },
        "id": "DYgnBx1xQdVv",
        "outputId": "f0638e69-866b-4102-acef-4822c6bb17ed"
      },
      "execution_count": null,
      "outputs": [
        {
          "output_type": "execute_result",
          "data": {
            "text/plain": [
              "torch.Size([64, 1, 28, 28])"
            ]
          },
          "metadata": {},
          "execution_count": 24
        }
      ]
    },
    {
      "cell_type": "code",
      "source": [
        "images.view(64,-1).shape"
      ],
      "metadata": {
        "colab": {
          "base_uri": "https://localhost:8080/"
        },
        "id": "TilRSsksQjQ_",
        "outputId": "cb9e0679-bd87-4d74-a676-9b97a8541c39"
      },
      "execution_count": null,
      "outputs": [
        {
          "output_type": "execute_result",
          "data": {
            "text/plain": [
              "torch.Size([64, 784])"
            ]
          },
          "metadata": {},
          "execution_count": 26
        }
      ]
    },
    {
      "cell_type": "code",
      "source": [
        "inputs = images.view(64,-1)"
      ],
      "metadata": {
        "id": "dpNQdOXrQynt"
      },
      "execution_count": null,
      "outputs": []
    },
    {
      "cell_type": "code",
      "source": [
        "inputs.shape"
      ],
      "metadata": {
        "colab": {
          "base_uri": "https://localhost:8080/"
        },
        "id": "5-92iHVXQ5iL",
        "outputId": "01c03d30-0ae0-40d8-b68a-e7a595a0b00f"
      },
      "execution_count": null,
      "outputs": [
        {
          "output_type": "execute_result",
          "data": {
            "text/plain": [
              "torch.Size([64, 784])"
            ]
          },
          "metadata": {},
          "execution_count": 28
        }
      ]
    },
    {
      "cell_type": "code",
      "source": [
        "W1 = torch.randn(784, 256)\n",
        "B1 = torch.randn(256)\n",
        "W2 = torch.randn(256, 10)\n",
        "B2 = torch.randn(10)"
      ],
      "metadata": {
        "id": "43KM-FI9Q9fS"
      },
      "execution_count": null,
      "outputs": []
    },
    {
      "cell_type": "code",
      "source": [
        "def sigmoid(x) :\n",
        "  return 1 / (1+torch.exp(-x))"
      ],
      "metadata": {
        "id": "13XrXwf1SSsS"
      },
      "execution_count": null,
      "outputs": []
    },
    {
      "cell_type": "code",
      "source": [
        "A = sigmoid(torch.mm(inputs, W1) + B1)\n",
        "output = torch.mm(A, W2) + B2"
      ],
      "metadata": {
        "id": "yBRroKlESYk0"
      },
      "execution_count": null,
      "outputs": []
    },
    {
      "cell_type": "code",
      "source": [
        "output.shape"
      ],
      "metadata": {
        "colab": {
          "base_uri": "https://localhost:8080/"
        },
        "id": "ml0IDVe2TnCk",
        "outputId": "b9684a51-fdcd-4db7-e809-c8e22ba873a2"
      },
      "execution_count": null,
      "outputs": [
        {
          "output_type": "execute_result",
          "data": {
            "text/plain": [
              "torch.Size([64, 10])"
            ]
          },
          "metadata": {},
          "execution_count": 32
        }
      ]
    },
    {
      "cell_type": "code",
      "source": [
        "output[0].shape"
      ],
      "metadata": {
        "colab": {
          "base_uri": "https://localhost:8080/"
        },
        "id": "Qa_s30jYUWKa",
        "outputId": "d042fa9b-a0d0-47eb-ff90-f7ecd46df638"
      },
      "execution_count": null,
      "outputs": [
        {
          "output_type": "execute_result",
          "data": {
            "text/plain": [
              "torch.Size([10])"
            ]
          },
          "metadata": {},
          "execution_count": 35
        }
      ]
    },
    {
      "cell_type": "code",
      "source": [
        "def softmax(x) :\n",
        "  return torch.exp(x) / torch.sum(torch.exp(x))"
      ],
      "metadata": {
        "id": "FfKfS1KiUdWr"
      },
      "execution_count": null,
      "outputs": []
    },
    {
      "cell_type": "code",
      "source": [
        "softmax(output[0])"
      ],
      "metadata": {
        "colab": {
          "base_uri": "https://localhost:8080/"
        },
        "id": "gxvwDik-Ur1G",
        "outputId": "218c0a07-11c6-4db4-de8b-2b180489f52a"
      },
      "execution_count": null,
      "outputs": [
        {
          "output_type": "execute_result",
          "data": {
            "text/plain": [
              "tensor([3.6014e-01, 1.9156e-08, 5.6000e-01, 5.9402e-17, 4.6017e-12, 7.9854e-02,\n",
              "        7.1171e-10, 1.0925e-06, 4.3811e-07, 1.7814e-16])"
            ]
          },
          "metadata": {},
          "execution_count": 38
        }
      ]
    },
    {
      "cell_type": "code",
      "source": [
        "torch.round(softmax(output[0]), decimals = 4)"
      ],
      "metadata": {
        "colab": {
          "base_uri": "https://localhost:8080/"
        },
        "id": "_FLGjBAXUvOk",
        "outputId": "0058f729-3f1d-4f0c-fbba-bf3c2e8806ba"
      },
      "execution_count": null,
      "outputs": [
        {
          "output_type": "execute_result",
          "data": {
            "text/plain": [
              "tensor([0.3601, 0.0000, 0.5600, 0.0000, 0.0000, 0.0799, 0.0000, 0.0000, 0.0000,\n",
              "        0.0000])"
            ]
          },
          "metadata": {},
          "execution_count": 40
        }
      ]
    },
    {
      "cell_type": "code",
      "source": [
        "torch.sum(softmax(output[0]))"
      ],
      "metadata": {
        "colab": {
          "base_uri": "https://localhost:8080/"
        },
        "id": "gU4-Xz2OU5Lk",
        "outputId": "101d6c11-6030-4586-81b5-3b750440be75"
      },
      "execution_count": null,
      "outputs": [
        {
          "output_type": "execute_result",
          "data": {
            "text/plain": [
              "tensor(1.0000)"
            ]
          },
          "metadata": {},
          "execution_count": 41
        }
      ]
    },
    {
      "cell_type": "code",
      "source": [
        "probabilities = []\n",
        "for i in range(64):\n",
        "  probability = softmax(output[i])\n",
        "  probabilities.append(probability)"
      ],
      "metadata": {
        "id": "zOo5b1PFU-6u"
      },
      "execution_count": null,
      "outputs": []
    },
    {
      "cell_type": "code",
      "source": [
        "print(\"Image 01 =\", probabilities[0])\n",
        "print(\"Image 02 =\", torch.sum(probabilities[1]))"
      ],
      "metadata": {
        "colab": {
          "base_uri": "https://localhost:8080/"
        },
        "id": "Hp3kAQ4PVMSI",
        "outputId": "cb7d1bce-de52-4705-b7cc-ab10b1e8845c"
      },
      "execution_count": null,
      "outputs": [
        {
          "output_type": "stream",
          "name": "stdout",
          "text": [
            "Image 01 = tensor([3.6014e-01, 1.9156e-08, 5.6000e-01, 5.9402e-17, 4.6017e-12, 7.9854e-02,\n",
            "        7.1171e-10, 1.0925e-06, 4.3811e-07, 1.7814e-16])\n",
            "Image 02 = tensor(1.0000)\n"
          ]
        }
      ]
    },
    {
      "cell_type": "code",
      "source": [
        "probabilities"
      ],
      "metadata": {
        "colab": {
          "base_uri": "https://localhost:8080/"
        },
        "id": "aBvLck5kW7R4",
        "outputId": "8281c617-b60d-41b6-de9a-d8867ad7448a"
      },
      "execution_count": null,
      "outputs": [
        {
          "output_type": "execute_result",
          "data": {
            "text/plain": [
              "[tensor([3.6014e-01, 1.9156e-08, 5.6000e-01, 5.9402e-17, 4.6017e-12, 7.9854e-02,\n",
              "         7.1171e-10, 1.0925e-06, 4.3811e-07, 1.7814e-16]),\n",
              " tensor([9.6873e-01, 2.0204e-04, 7.0170e-04, 2.6302e-15, 2.3642e-15, 3.0362e-02,\n",
              "         2.1449e-13, 5.4797e-07, 1.5604e-07, 1.4661e-20]),\n",
              " tensor([9.9867e-01, 1.1844e-06, 6.7099e-07, 3.7821e-19, 7.1764e-18, 1.3250e-03,\n",
              "         5.4958e-12, 1.0468e-07, 5.7167e-08, 1.7874e-16]),\n",
              " tensor([9.8420e-01, 2.2144e-05, 3.8282e-04, 1.3175e-14, 4.2958e-16, 1.4723e-02,\n",
              "         8.4872e-10, 6.4423e-04, 3.0268e-05, 5.6312e-19]),\n",
              " tensor([2.4362e-02, 1.9894e-07, 1.5459e-06, 1.5376e-20, 1.5253e-16, 9.7564e-01,\n",
              "         5.9364e-15, 5.0111e-08, 1.9597e-11, 1.3529e-19]),\n",
              " tensor([4.6591e-04, 8.0357e-13, 1.1602e-08, 3.5929e-18, 3.8243e-17, 9.9953e-01,\n",
              "         1.7127e-12, 2.4139e-09, 1.4904e-13, 8.0045e-25]),\n",
              " tensor([9.9994e-01, 2.7884e-05, 1.1106e-09, 9.0575e-23, 6.0435e-18, 3.3356e-05,\n",
              "         2.7759e-13, 3.1980e-07, 1.3160e-11, 3.3430e-19]),\n",
              " tensor([9.9941e-01, 5.0576e-04, 3.2477e-07, 3.7168e-17, 8.9457e-15, 4.7179e-06,\n",
              "         1.5640e-12, 8.0542e-05, 8.7434e-08, 4.2289e-19]),\n",
              " tensor([3.2608e-01, 5.9241e-07, 8.5247e-03, 2.5854e-14, 1.0192e-13, 6.6536e-01,\n",
              "         9.8051e-07, 3.3453e-05, 9.3583e-11, 4.1651e-16]),\n",
              " tensor([1.0780e-01, 3.8802e-02, 1.4138e-07, 1.9029e-17, 2.8314e-13, 8.5317e-01,\n",
              "         2.1926e-04, 9.5314e-08, 7.6428e-13, 1.0285e-16]),\n",
              " tensor([2.5082e-01, 6.5857e-03, 8.4970e-07, 2.3592e-15, 3.8728e-18, 7.2228e-01,\n",
              "         3.9406e-14, 2.0316e-02, 3.0845e-07, 3.5947e-15]),\n",
              " tensor([7.5046e-02, 1.1402e-06, 8.1644e-07, 3.2551e-17, 4.5438e-18, 9.2495e-01,\n",
              "         6.6158e-12, 2.7940e-06, 6.0398e-10, 7.2512e-24]),\n",
              " tensor([9.7475e-01, 1.5872e-05, 1.2692e-05, 7.4369e-15, 4.8668e-17, 3.7160e-07,\n",
              "         1.9440e-11, 2.5224e-02, 1.5956e-10, 7.6626e-17]),\n",
              " tensor([9.6883e-01, 1.6578e-08, 2.0019e-05, 5.6481e-23, 8.4990e-17, 3.1123e-02,\n",
              "         2.1705e-10, 3.1113e-05, 6.0369e-09, 3.4130e-17]),\n",
              " tensor([9.9995e-01, 1.6752e-05, 2.9095e-05, 3.8724e-18, 1.8217e-12, 1.9047e-06,\n",
              "         3.1617e-14, 8.4791e-08, 4.5553e-07, 1.4760e-13]),\n",
              " tensor([9.9546e-01, 1.6526e-05, 3.5360e-03, 1.8540e-16, 2.5945e-13, 1.6759e-05,\n",
              "         1.4505e-12, 9.6553e-04, 2.0884e-07, 1.5108e-12]),\n",
              " tensor([2.6440e-01, 2.2215e-06, 1.6875e-05, 6.7817e-16, 3.8636e-13, 7.3538e-01,\n",
              "         8.7353e-11, 1.9892e-04, 9.1209e-09, 7.5729e-18]),\n",
              " tensor([9.9707e-01, 2.4503e-07, 7.0180e-10, 9.1338e-22, 3.2481e-15, 2.6231e-03,\n",
              "         8.5100e-11, 3.1086e-04, 3.2284e-08, 1.4494e-15]),\n",
              " tensor([4.5266e-01, 1.9633e-02, 1.2895e-04, 8.4594e-18, 6.3677e-16, 5.2750e-01,\n",
              "         9.4948e-13, 6.3142e-06, 6.6442e-05, 3.2207e-16]),\n",
              " tensor([1.3592e-01, 1.4795e-05, 1.5637e-04, 9.8768e-20, 3.5026e-17, 8.6391e-01,\n",
              "         1.8890e-14, 1.8415e-08, 4.0353e-12, 1.3535e-15]),\n",
              " tensor([1.6234e-05, 2.4255e-06, 7.5135e-08, 1.1868e-15, 4.3102e-14, 9.9998e-01,\n",
              "         2.4005e-15, 5.5933e-06, 1.5486e-08, 7.2430e-15]),\n",
              " tensor([9.9982e-01, 5.6365e-09, 1.7253e-04, 4.8647e-26, 1.2462e-11, 2.8311e-06,\n",
              "         4.4615e-14, 2.9010e-11, 1.0321e-13, 2.7742e-15]),\n",
              " tensor([5.4403e-01, 3.8405e-08, 1.0965e-07, 5.6018e-17, 2.0052e-18, 2.9162e-01,\n",
              "         1.1696e-14, 1.0587e-05, 1.6434e-01, 1.0150e-17]),\n",
              " tensor([9.9899e-01, 3.7496e-06, 9.9778e-04, 1.6219e-15, 1.7075e-16, 8.8383e-06,\n",
              "         4.9013e-15, 1.5429e-08, 2.9222e-09, 7.2220e-19]),\n",
              " tensor([9.9600e-01, 1.3587e-09, 5.8214e-05, 4.7015e-21, 6.8799e-18, 3.9438e-03,\n",
              "         3.3528e-18, 2.1363e-11, 3.6483e-10, 4.1277e-22]),\n",
              " tensor([1.1060e-04, 1.2545e-02, 3.0401e-05, 8.6447e-20, 5.6214e-20, 9.8731e-01,\n",
              "         3.3998e-12, 6.9655e-08, 2.3568e-06, 8.3644e-19]),\n",
              " tensor([9.9930e-01, 3.4630e-07, 4.5946e-06, 1.4432e-16, 5.3166e-16, 6.9787e-04,\n",
              "         1.1052e-09, 4.1356e-07, 1.4727e-08, 2.6915e-16]),\n",
              " tensor([7.5739e-01, 9.0629e-07, 2.4090e-01, 7.4179e-14, 5.0430e-15, 1.6890e-03,\n",
              "         2.3729e-10, 1.2066e-05, 1.3833e-05, 8.0493e-18]),\n",
              " tensor([9.9999e-01, 4.9456e-12, 3.5338e-06, 8.9545e-18, 3.3264e-14, 4.2472e-06,\n",
              "         2.5468e-15, 1.1125e-07, 2.7615e-09, 1.6088e-18]),\n",
              " tensor([9.9999e-01, 1.9960e-09, 1.7325e-10, 4.5168e-16, 2.8431e-15, 1.1062e-05,\n",
              "         1.2153e-18, 4.4530e-08, 1.2534e-13, 7.1286e-23]),\n",
              " tensor([9.9999e-01, 8.5463e-11, 1.3106e-08, 4.7533e-19, 5.1199e-17, 3.6125e-07,\n",
              "         1.3237e-17, 7.1386e-06, 4.0203e-11, 1.9933e-20]),\n",
              " tensor([6.1604e-02, 5.6660e-04, 4.4496e-03, 7.0902e-16, 6.0064e-14, 2.9798e-02,\n",
              "         4.7951e-08, 9.0358e-01, 1.2855e-06, 2.4347e-14]),\n",
              " tensor([9.9235e-01, 1.0753e-04, 1.6813e-08, 1.0865e-14, 6.8935e-16, 7.5399e-03,\n",
              "         1.7145e-14, 3.7215e-06, 4.6558e-07, 8.9816e-21]),\n",
              " tensor([9.9791e-01, 3.2565e-04, 6.0801e-04, 8.8426e-13, 1.0200e-14, 1.1537e-03,\n",
              "         3.7349e-17, 1.6051e-06, 2.4122e-08, 1.1732e-14]),\n",
              " tensor([3.1836e-01, 8.3079e-05, 1.4419e-08, 2.1803e-16, 2.7657e-15, 6.8107e-01,\n",
              "         2.4602e-13, 4.8390e-04, 5.2956e-10, 1.5060e-14]),\n",
              " tensor([1.0000e+00, 5.1253e-10, 2.8366e-12, 2.4213e-21, 3.2054e-15, 3.9844e-06,\n",
              "         2.5599e-13, 1.3880e-07, 1.4107e-14, 2.9623e-13]),\n",
              " tensor([9.9823e-01, 1.9506e-08, 4.2282e-05, 1.8972e-15, 9.1666e-14, 1.6633e-03,\n",
              "         1.0065e-09, 6.8343e-05, 6.6521e-14, 1.3549e-15]),\n",
              " tensor([9.8175e-01, 4.4090e-11, 6.0901e-06, 3.8077e-21, 8.7774e-15, 1.8233e-02,\n",
              "         2.3803e-09, 1.1790e-05, 8.5206e-12, 1.1579e-20]),\n",
              " tensor([3.2082e-03, 1.3092e-03, 5.8520e-05, 2.3204e-16, 1.0259e-15, 9.9542e-01,\n",
              "         1.0498e-06, 6.1197e-07, 1.7668e-09, 8.7901e-14]),\n",
              " tensor([6.3271e-01, 4.8971e-05, 5.0785e-06, 3.1316e-25, 1.8231e-14, 3.6722e-01,\n",
              "         2.4503e-14, 1.3204e-05, 1.0367e-07, 2.1051e-19]),\n",
              " tensor([9.9335e-01, 6.1538e-03, 2.0926e-06, 9.7444e-17, 4.1688e-17, 4.9799e-04,\n",
              "         7.1773e-17, 2.2701e-07, 5.7120e-08, 3.4463e-16]),\n",
              " tensor([9.9941e-01, 1.5449e-06, 1.1941e-05, 3.5045e-14, 2.9018e-19, 2.1007e-04,\n",
              "         7.9621e-11, 1.8309e-04, 1.8788e-04, 1.4701e-14]),\n",
              " tensor([9.9996e-01, 9.7045e-06, 1.5492e-06, 6.1277e-17, 2.4226e-16, 2.9770e-05,\n",
              "         2.1769e-12, 6.9261e-07, 9.8628e-10, 1.2173e-18]),\n",
              " tensor([3.1458e-03, 8.4569e-06, 1.0325e-04, 1.3553e-17, 5.0624e-13, 9.9233e-01,\n",
              "         1.2515e-09, 4.4140e-03, 9.6434e-09, 1.5434e-20]),\n",
              " tensor([3.1714e-01, 6.3249e-06, 3.1611e-05, 2.5814e-17, 1.7172e-18, 6.8281e-01,\n",
              "         2.8468e-11, 5.7102e-07, 1.1608e-05, 1.0031e-14]),\n",
              " tensor([7.9199e-01, 9.4340e-07, 2.3885e-03, 2.4131e-14, 1.6537e-11, 2.0406e-01,\n",
              "         2.2069e-12, 1.5525e-03, 1.7552e-06, 1.2835e-21]),\n",
              " tensor([9.8732e-01, 6.8249e-13, 1.7636e-05, 5.0392e-21, 5.9866e-14, 1.2667e-02,\n",
              "         4.8914e-17, 5.3267e-09, 1.4683e-09, 4.6522e-19]),\n",
              " tensor([9.9538e-01, 5.3442e-08, 4.8981e-07, 1.7784e-13, 4.2633e-10, 1.4462e-03,\n",
              "         1.6323e-14, 3.1698e-03, 4.2186e-10, 2.5724e-23]),\n",
              " tensor([3.4702e-06, 5.1933e-12, 6.7554e-07, 1.7729e-22, 5.8111e-20, 1.0000e+00,\n",
              "         6.7412e-14, 2.5659e-11, 1.2277e-13, 4.4509e-21]),\n",
              " tensor([9.9544e-01, 2.1356e-07, 6.0936e-05, 2.2835e-20, 3.8697e-13, 4.3897e-03,\n",
              "         5.0307e-11, 1.0487e-04, 3.2142e-14, 4.1309e-16]),\n",
              " tensor([2.2406e-03, 2.9155e-05, 7.8918e-01, 2.5338e-22, 2.4811e-17, 2.0843e-01,\n",
              "         8.8519e-15, 2.6420e-07, 1.2581e-04, 2.4556e-18]),\n",
              " tensor([3.0401e-09, 4.7325e-08, 3.1255e-06, 2.2172e-26, 8.6735e-21, 1.0000e+00,\n",
              "         2.7824e-14, 1.4971e-12, 2.1888e-16, 3.0344e-17]),\n",
              " tensor([2.1512e-04, 3.1644e-06, 3.8507e-04, 4.0595e-15, 3.7806e-15, 9.9938e-01,\n",
              "         1.6150e-12, 1.1555e-05, 3.3452e-06, 1.3887e-15]),\n",
              " tensor([3.2774e-01, 3.6311e-06, 7.5842e-10, 1.4191e-18, 5.3972e-17, 6.7226e-01,\n",
              "         8.8402e-07, 6.1615e-08, 4.1005e-12, 7.8944e-22]),\n",
              " tensor([2.3574e-01, 1.8557e-02, 2.4556e-03, 5.6547e-12, 7.2086e-17, 7.4325e-01,\n",
              "         3.3498e-10, 8.8593e-08, 2.2509e-08, 4.3735e-16]),\n",
              " tensor([9.8292e-01, 2.5601e-06, 1.3347e-03, 4.6277e-19, 2.9983e-17, 1.5742e-02,\n",
              "         2.5220e-14, 1.5201e-06, 1.9783e-07, 1.1362e-19]),\n",
              " tensor([7.5485e-01, 6.2562e-09, 6.3620e-02, 1.1526e-16, 3.3850e-10, 1.7868e-01,\n",
              "         1.6867e-08, 2.8482e-03, 1.7583e-07, 3.9558e-15]),\n",
              " tensor([1.5967e-03, 2.3542e-05, 3.0605e-05, 3.3609e-18, 1.5837e-18, 9.9835e-01,\n",
              "         6.4578e-16, 1.4084e-06, 4.4800e-10, 1.4384e-20]),\n",
              " tensor([9.9898e-01, 8.2376e-07, 1.4410e-04, 1.2968e-19, 1.4308e-13, 8.6518e-04,\n",
              "         7.6314e-11, 5.4202e-06, 1.9172e-07, 6.9192e-19]),\n",
              " tensor([9.5534e-01, 1.0393e-02, 1.7752e-04, 1.5532e-13, 2.1778e-13, 3.3926e-02,\n",
              "         1.1620e-16, 1.6795e-04, 4.1845e-08, 1.4051e-10]),\n",
              " tensor([4.0021e-02, 2.7481e-08, 4.7405e-10, 7.5011e-17, 2.7638e-16, 9.5991e-01,\n",
              "         2.8887e-14, 3.8123e-05, 3.2154e-05, 5.2360e-18]),\n",
              " tensor([3.3123e-01, 4.9065e-05, 8.6654e-07, 2.3631e-22, 3.0580e-17, 5.4354e-01,\n",
              "         5.8506e-15, 1.2518e-01, 1.6947e-10, 3.3627e-16]),\n",
              " tensor([9.9963e-01, 5.5682e-07, 4.9370e-10, 2.1992e-18, 2.3469e-12, 2.2993e-05,\n",
              "         9.5439e-14, 3.5109e-04, 3.1447e-09, 2.3898e-18]),\n",
              " tensor([1.6280e-07, 9.8903e-01, 1.4492e-07, 9.8629e-15, 1.3574e-14, 1.0822e-02,\n",
              "         1.1652e-11, 1.4885e-04, 2.5682e-10, 3.4943e-20])]"
            ]
          },
          "metadata": {},
          "execution_count": 48
        }
      ]
    },
    {
      "cell_type": "code",
      "source": [
        "def softmax(x) :\n",
        "  return torch.exp(x) / torch.sum(torch.exp(x), dim = 1).view(-1,1)"
      ],
      "metadata": {
        "id": "yqEhnjtxWpod"
      },
      "execution_count": null,
      "outputs": []
    },
    {
      "cell_type": "markdown",
      "source": [],
      "metadata": {
        "id": "gv7osju3XP7g"
      }
    },
    {
      "cell_type": "code",
      "source": [
        "softmax(output)"
      ],
      "metadata": {
        "colab": {
          "base_uri": "https://localhost:8080/"
        },
        "id": "BSJ-1jsvW3Z9",
        "outputId": "c20700af-605f-4ade-8387-7416dcd3451e"
      },
      "execution_count": null,
      "outputs": [
        {
          "output_type": "execute_result",
          "data": {
            "text/plain": [
              "tensor([[3.6014e-01, 1.9156e-08, 5.6000e-01, 5.9402e-17, 4.6017e-12, 7.9854e-02,\n",
              "         7.1171e-10, 1.0925e-06, 4.3811e-07, 1.7814e-16],\n",
              "        [9.6873e-01, 2.0204e-04, 7.0170e-04, 2.6302e-15, 2.3642e-15, 3.0362e-02,\n",
              "         2.1449e-13, 5.4797e-07, 1.5604e-07, 1.4661e-20],\n",
              "        [9.9867e-01, 1.1844e-06, 6.7099e-07, 3.7821e-19, 7.1764e-18, 1.3250e-03,\n",
              "         5.4958e-12, 1.0468e-07, 5.7167e-08, 1.7874e-16],\n",
              "        [9.8420e-01, 2.2144e-05, 3.8282e-04, 1.3175e-14, 4.2958e-16, 1.4723e-02,\n",
              "         8.4872e-10, 6.4423e-04, 3.0268e-05, 5.6312e-19],\n",
              "        [2.4362e-02, 1.9894e-07, 1.5459e-06, 1.5376e-20, 1.5253e-16, 9.7564e-01,\n",
              "         5.9364e-15, 5.0111e-08, 1.9597e-11, 1.3529e-19],\n",
              "        [4.6591e-04, 8.0357e-13, 1.1602e-08, 3.5929e-18, 3.8243e-17, 9.9953e-01,\n",
              "         1.7127e-12, 2.4139e-09, 1.4904e-13, 8.0045e-25],\n",
              "        [9.9994e-01, 2.7884e-05, 1.1106e-09, 9.0575e-23, 6.0435e-18, 3.3356e-05,\n",
              "         2.7759e-13, 3.1980e-07, 1.3160e-11, 3.3430e-19],\n",
              "        [9.9941e-01, 5.0576e-04, 3.2477e-07, 3.7168e-17, 8.9457e-15, 4.7179e-06,\n",
              "         1.5640e-12, 8.0542e-05, 8.7434e-08, 4.2289e-19],\n",
              "        [3.2608e-01, 5.9241e-07, 8.5247e-03, 2.5854e-14, 1.0192e-13, 6.6536e-01,\n",
              "         9.8051e-07, 3.3453e-05, 9.3583e-11, 4.1651e-16],\n",
              "        [1.0780e-01, 3.8802e-02, 1.4138e-07, 1.9029e-17, 2.8314e-13, 8.5317e-01,\n",
              "         2.1926e-04, 9.5314e-08, 7.6428e-13, 1.0285e-16],\n",
              "        [2.5082e-01, 6.5857e-03, 8.4970e-07, 2.3592e-15, 3.8728e-18, 7.2228e-01,\n",
              "         3.9406e-14, 2.0316e-02, 3.0845e-07, 3.5947e-15],\n",
              "        [7.5046e-02, 1.1402e-06, 8.1644e-07, 3.2551e-17, 4.5438e-18, 9.2495e-01,\n",
              "         6.6158e-12, 2.7940e-06, 6.0398e-10, 7.2512e-24],\n",
              "        [9.7475e-01, 1.5872e-05, 1.2692e-05, 7.4369e-15, 4.8668e-17, 3.7160e-07,\n",
              "         1.9440e-11, 2.5224e-02, 1.5956e-10, 7.6626e-17],\n",
              "        [9.6883e-01, 1.6578e-08, 2.0019e-05, 5.6481e-23, 8.4990e-17, 3.1123e-02,\n",
              "         2.1705e-10, 3.1113e-05, 6.0369e-09, 3.4130e-17],\n",
              "        [9.9995e-01, 1.6752e-05, 2.9095e-05, 3.8724e-18, 1.8217e-12, 1.9047e-06,\n",
              "         3.1617e-14, 8.4791e-08, 4.5553e-07, 1.4760e-13],\n",
              "        [9.9546e-01, 1.6526e-05, 3.5360e-03, 1.8540e-16, 2.5945e-13, 1.6759e-05,\n",
              "         1.4505e-12, 9.6553e-04, 2.0884e-07, 1.5108e-12],\n",
              "        [2.6440e-01, 2.2215e-06, 1.6875e-05, 6.7817e-16, 3.8636e-13, 7.3538e-01,\n",
              "         8.7353e-11, 1.9892e-04, 9.1209e-09, 7.5729e-18],\n",
              "        [9.9707e-01, 2.4503e-07, 7.0180e-10, 9.1338e-22, 3.2481e-15, 2.6231e-03,\n",
              "         8.5100e-11, 3.1086e-04, 3.2284e-08, 1.4494e-15],\n",
              "        [4.5266e-01, 1.9633e-02, 1.2895e-04, 8.4594e-18, 6.3677e-16, 5.2750e-01,\n",
              "         9.4948e-13, 6.3142e-06, 6.6442e-05, 3.2207e-16],\n",
              "        [1.3592e-01, 1.4795e-05, 1.5637e-04, 9.8768e-20, 3.5026e-17, 8.6391e-01,\n",
              "         1.8890e-14, 1.8415e-08, 4.0353e-12, 1.3535e-15],\n",
              "        [1.6234e-05, 2.4255e-06, 7.5135e-08, 1.1868e-15, 4.3102e-14, 9.9998e-01,\n",
              "         2.4005e-15, 5.5933e-06, 1.5486e-08, 7.2430e-15],\n",
              "        [9.9982e-01, 5.6365e-09, 1.7253e-04, 4.8647e-26, 1.2462e-11, 2.8311e-06,\n",
              "         4.4615e-14, 2.9010e-11, 1.0321e-13, 2.7742e-15],\n",
              "        [5.4403e-01, 3.8405e-08, 1.0965e-07, 5.6018e-17, 2.0052e-18, 2.9162e-01,\n",
              "         1.1696e-14, 1.0587e-05, 1.6434e-01, 1.0150e-17],\n",
              "        [9.9899e-01, 3.7496e-06, 9.9778e-04, 1.6219e-15, 1.7075e-16, 8.8383e-06,\n",
              "         4.9013e-15, 1.5429e-08, 2.9222e-09, 7.2220e-19],\n",
              "        [9.9600e-01, 1.3587e-09, 5.8214e-05, 4.7015e-21, 6.8799e-18, 3.9438e-03,\n",
              "         3.3528e-18, 2.1363e-11, 3.6483e-10, 4.1277e-22],\n",
              "        [1.1060e-04, 1.2545e-02, 3.0401e-05, 8.6447e-20, 5.6214e-20, 9.8731e-01,\n",
              "         3.3998e-12, 6.9655e-08, 2.3568e-06, 8.3644e-19],\n",
              "        [9.9930e-01, 3.4630e-07, 4.5946e-06, 1.4432e-16, 5.3166e-16, 6.9787e-04,\n",
              "         1.1052e-09, 4.1356e-07, 1.4727e-08, 2.6915e-16],\n",
              "        [7.5739e-01, 9.0629e-07, 2.4090e-01, 7.4179e-14, 5.0430e-15, 1.6890e-03,\n",
              "         2.3729e-10, 1.2066e-05, 1.3833e-05, 8.0493e-18],\n",
              "        [9.9999e-01, 4.9456e-12, 3.5338e-06, 8.9545e-18, 3.3264e-14, 4.2472e-06,\n",
              "         2.5468e-15, 1.1125e-07, 2.7615e-09, 1.6088e-18],\n",
              "        [9.9999e-01, 1.9960e-09, 1.7325e-10, 4.5168e-16, 2.8431e-15, 1.1062e-05,\n",
              "         1.2153e-18, 4.4530e-08, 1.2534e-13, 7.1286e-23],\n",
              "        [9.9999e-01, 8.5463e-11, 1.3106e-08, 4.7533e-19, 5.1199e-17, 3.6125e-07,\n",
              "         1.3237e-17, 7.1386e-06, 4.0203e-11, 1.9933e-20],\n",
              "        [6.1604e-02, 5.6660e-04, 4.4496e-03, 7.0902e-16, 6.0064e-14, 2.9798e-02,\n",
              "         4.7951e-08, 9.0358e-01, 1.2855e-06, 2.4347e-14],\n",
              "        [9.9235e-01, 1.0753e-04, 1.6813e-08, 1.0865e-14, 6.8935e-16, 7.5399e-03,\n",
              "         1.7145e-14, 3.7215e-06, 4.6558e-07, 8.9816e-21],\n",
              "        [9.9791e-01, 3.2565e-04, 6.0801e-04, 8.8426e-13, 1.0200e-14, 1.1537e-03,\n",
              "         3.7349e-17, 1.6051e-06, 2.4122e-08, 1.1732e-14],\n",
              "        [3.1836e-01, 8.3079e-05, 1.4419e-08, 2.1803e-16, 2.7657e-15, 6.8107e-01,\n",
              "         2.4602e-13, 4.8390e-04, 5.2956e-10, 1.5060e-14],\n",
              "        [1.0000e+00, 5.1253e-10, 2.8366e-12, 2.4213e-21, 3.2054e-15, 3.9844e-06,\n",
              "         2.5599e-13, 1.3880e-07, 1.4107e-14, 2.9623e-13],\n",
              "        [9.9823e-01, 1.9506e-08, 4.2282e-05, 1.8972e-15, 9.1666e-14, 1.6633e-03,\n",
              "         1.0065e-09, 6.8343e-05, 6.6521e-14, 1.3549e-15],\n",
              "        [9.8175e-01, 4.4090e-11, 6.0901e-06, 3.8077e-21, 8.7774e-15, 1.8233e-02,\n",
              "         2.3803e-09, 1.1790e-05, 8.5206e-12, 1.1579e-20],\n",
              "        [3.2082e-03, 1.3092e-03, 5.8520e-05, 2.3204e-16, 1.0259e-15, 9.9542e-01,\n",
              "         1.0498e-06, 6.1197e-07, 1.7668e-09, 8.7901e-14],\n",
              "        [6.3271e-01, 4.8971e-05, 5.0785e-06, 3.1316e-25, 1.8231e-14, 3.6722e-01,\n",
              "         2.4503e-14, 1.3204e-05, 1.0367e-07, 2.1051e-19],\n",
              "        [9.9335e-01, 6.1538e-03, 2.0926e-06, 9.7444e-17, 4.1688e-17, 4.9799e-04,\n",
              "         7.1773e-17, 2.2701e-07, 5.7120e-08, 3.4463e-16],\n",
              "        [9.9941e-01, 1.5449e-06, 1.1941e-05, 3.5045e-14, 2.9018e-19, 2.1007e-04,\n",
              "         7.9621e-11, 1.8309e-04, 1.8788e-04, 1.4701e-14],\n",
              "        [9.9996e-01, 9.7045e-06, 1.5492e-06, 6.1277e-17, 2.4226e-16, 2.9770e-05,\n",
              "         2.1769e-12, 6.9261e-07, 9.8628e-10, 1.2173e-18],\n",
              "        [3.1458e-03, 8.4569e-06, 1.0325e-04, 1.3553e-17, 5.0624e-13, 9.9233e-01,\n",
              "         1.2515e-09, 4.4140e-03, 9.6434e-09, 1.5434e-20],\n",
              "        [3.1714e-01, 6.3249e-06, 3.1611e-05, 2.5814e-17, 1.7172e-18, 6.8281e-01,\n",
              "         2.8468e-11, 5.7102e-07, 1.1608e-05, 1.0031e-14],\n",
              "        [7.9199e-01, 9.4340e-07, 2.3885e-03, 2.4131e-14, 1.6537e-11, 2.0406e-01,\n",
              "         2.2069e-12, 1.5525e-03, 1.7552e-06, 1.2835e-21],\n",
              "        [9.8732e-01, 6.8249e-13, 1.7636e-05, 5.0392e-21, 5.9866e-14, 1.2667e-02,\n",
              "         4.8914e-17, 5.3267e-09, 1.4683e-09, 4.6522e-19],\n",
              "        [9.9538e-01, 5.3442e-08, 4.8981e-07, 1.7784e-13, 4.2633e-10, 1.4462e-03,\n",
              "         1.6323e-14, 3.1698e-03, 4.2186e-10, 2.5724e-23],\n",
              "        [3.4702e-06, 5.1933e-12, 6.7554e-07, 1.7729e-22, 5.8111e-20, 1.0000e+00,\n",
              "         6.7412e-14, 2.5659e-11, 1.2277e-13, 4.4509e-21],\n",
              "        [9.9544e-01, 2.1356e-07, 6.0936e-05, 2.2835e-20, 3.8697e-13, 4.3897e-03,\n",
              "         5.0307e-11, 1.0487e-04, 3.2142e-14, 4.1309e-16],\n",
              "        [2.2406e-03, 2.9155e-05, 7.8918e-01, 2.5338e-22, 2.4811e-17, 2.0843e-01,\n",
              "         8.8519e-15, 2.6420e-07, 1.2581e-04, 2.4556e-18],\n",
              "        [3.0401e-09, 4.7325e-08, 3.1255e-06, 2.2172e-26, 8.6735e-21, 1.0000e+00,\n",
              "         2.7824e-14, 1.4971e-12, 2.1888e-16, 3.0344e-17],\n",
              "        [2.1512e-04, 3.1644e-06, 3.8507e-04, 4.0595e-15, 3.7806e-15, 9.9938e-01,\n",
              "         1.6150e-12, 1.1555e-05, 3.3452e-06, 1.3887e-15],\n",
              "        [3.2774e-01, 3.6311e-06, 7.5842e-10, 1.4191e-18, 5.3972e-17, 6.7226e-01,\n",
              "         8.8402e-07, 6.1615e-08, 4.1005e-12, 7.8944e-22],\n",
              "        [2.3574e-01, 1.8557e-02, 2.4556e-03, 5.6547e-12, 7.2086e-17, 7.4325e-01,\n",
              "         3.3498e-10, 8.8593e-08, 2.2509e-08, 4.3735e-16],\n",
              "        [9.8292e-01, 2.5601e-06, 1.3347e-03, 4.6277e-19, 2.9983e-17, 1.5742e-02,\n",
              "         2.5220e-14, 1.5201e-06, 1.9783e-07, 1.1362e-19],\n",
              "        [7.5485e-01, 6.2562e-09, 6.3620e-02, 1.1526e-16, 3.3850e-10, 1.7868e-01,\n",
              "         1.6867e-08, 2.8482e-03, 1.7583e-07, 3.9558e-15],\n",
              "        [1.5967e-03, 2.3542e-05, 3.0605e-05, 3.3609e-18, 1.5837e-18, 9.9835e-01,\n",
              "         6.4578e-16, 1.4084e-06, 4.4800e-10, 1.4384e-20],\n",
              "        [9.9898e-01, 8.2376e-07, 1.4410e-04, 1.2968e-19, 1.4308e-13, 8.6518e-04,\n",
              "         7.6314e-11, 5.4202e-06, 1.9172e-07, 6.9192e-19],\n",
              "        [9.5534e-01, 1.0393e-02, 1.7752e-04, 1.5532e-13, 2.1778e-13, 3.3926e-02,\n",
              "         1.1620e-16, 1.6795e-04, 4.1845e-08, 1.4051e-10],\n",
              "        [4.0021e-02, 2.7481e-08, 4.7405e-10, 7.5011e-17, 2.7638e-16, 9.5991e-01,\n",
              "         2.8887e-14, 3.8123e-05, 3.2154e-05, 5.2360e-18],\n",
              "        [3.3123e-01, 4.9065e-05, 8.6654e-07, 2.3631e-22, 3.0580e-17, 5.4354e-01,\n",
              "         5.8506e-15, 1.2518e-01, 1.6947e-10, 3.3627e-16],\n",
              "        [9.9963e-01, 5.5682e-07, 4.9370e-10, 2.1992e-18, 2.3469e-12, 2.2993e-05,\n",
              "         9.5439e-14, 3.5109e-04, 3.1447e-09, 2.3898e-18],\n",
              "        [1.6280e-07, 9.8903e-01, 1.4492e-07, 9.8629e-15, 1.3574e-14, 1.0822e-02,\n",
              "         1.1652e-11, 1.4885e-04, 2.5682e-10, 3.4943e-20]])"
            ]
          },
          "metadata": {},
          "execution_count": 47
        }
      ]
    },
    {
      "cell_type": "code",
      "source": [
        "from torch import nn"
      ],
      "metadata": {
        "id": "PYyqCMEZXJun"
      },
      "execution_count": null,
      "outputs": []
    },
    {
      "cell_type": "code",
      "source": [
        "softmax = nn.Softmax(dim = 1)\n",
        "softmax(output)"
      ],
      "metadata": {
        "colab": {
          "base_uri": "https://localhost:8080/"
        },
        "id": "N1vc8XZvXQv2",
        "outputId": "088986b2-06f6-4417-b2ee-0aa63d129faf"
      },
      "execution_count": null,
      "outputs": [
        {
          "output_type": "execute_result",
          "data": {
            "text/plain": [
              "tensor([[3.6014e-01, 1.9156e-08, 5.6000e-01, 5.9402e-17, 4.6017e-12, 7.9854e-02,\n",
              "         7.1171e-10, 1.0925e-06, 4.3811e-07, 1.7814e-16],\n",
              "        [9.6873e-01, 2.0204e-04, 7.0170e-04, 2.6302e-15, 2.3642e-15, 3.0362e-02,\n",
              "         2.1449e-13, 5.4797e-07, 1.5604e-07, 1.4661e-20],\n",
              "        [9.9867e-01, 1.1844e-06, 6.7099e-07, 3.7822e-19, 7.1764e-18, 1.3250e-03,\n",
              "         5.4958e-12, 1.0468e-07, 5.7167e-08, 1.7874e-16],\n",
              "        [9.8420e-01, 2.2144e-05, 3.8282e-04, 1.3175e-14, 4.2959e-16, 1.4723e-02,\n",
              "         8.4872e-10, 6.4423e-04, 3.0268e-05, 5.6311e-19],\n",
              "        [2.4362e-02, 1.9894e-07, 1.5459e-06, 1.5377e-20, 1.5253e-16, 9.7564e-01,\n",
              "         5.9364e-15, 5.0111e-08, 1.9597e-11, 1.3529e-19],\n",
              "        [4.6591e-04, 8.0357e-13, 1.1602e-08, 3.5929e-18, 3.8243e-17, 9.9953e-01,\n",
              "         1.7127e-12, 2.4139e-09, 1.4904e-13, 8.0045e-25],\n",
              "        [9.9994e-01, 2.7884e-05, 1.1106e-09, 9.0575e-23, 6.0435e-18, 3.3356e-05,\n",
              "         2.7759e-13, 3.1980e-07, 1.3160e-11, 3.3430e-19],\n",
              "        [9.9941e-01, 5.0576e-04, 3.2477e-07, 3.7167e-17, 8.9457e-15, 4.7179e-06,\n",
              "         1.5640e-12, 8.0542e-05, 8.7434e-08, 4.2289e-19],\n",
              "        [3.2608e-01, 5.9241e-07, 8.5247e-03, 2.5854e-14, 1.0192e-13, 6.6536e-01,\n",
              "         9.8051e-07, 3.3453e-05, 9.3583e-11, 4.1651e-16],\n",
              "        [1.0780e-01, 3.8802e-02, 1.4138e-07, 1.9029e-17, 2.8314e-13, 8.5317e-01,\n",
              "         2.1926e-04, 9.5313e-08, 7.6428e-13, 1.0285e-16],\n",
              "        [2.5082e-01, 6.5857e-03, 8.4970e-07, 2.3592e-15, 3.8728e-18, 7.2228e-01,\n",
              "         3.9406e-14, 2.0316e-02, 3.0845e-07, 3.5947e-15],\n",
              "        [7.5046e-02, 1.1402e-06, 8.1644e-07, 3.2551e-17, 4.5438e-18, 9.2495e-01,\n",
              "         6.6158e-12, 2.7940e-06, 6.0398e-10, 7.2512e-24],\n",
              "        [9.7475e-01, 1.5872e-05, 1.2692e-05, 7.4369e-15, 4.8668e-17, 3.7160e-07,\n",
              "         1.9440e-11, 2.5224e-02, 1.5956e-10, 7.6626e-17],\n",
              "        [9.6883e-01, 1.6578e-08, 2.0019e-05, 5.6481e-23, 8.4990e-17, 3.1123e-02,\n",
              "         2.1705e-10, 3.1113e-05, 6.0369e-09, 3.4130e-17],\n",
              "        [9.9995e-01, 1.6752e-05, 2.9095e-05, 3.8724e-18, 1.8217e-12, 1.9047e-06,\n",
              "         3.1617e-14, 8.4791e-08, 4.5553e-07, 1.4760e-13],\n",
              "        [9.9546e-01, 1.6526e-05, 3.5360e-03, 1.8540e-16, 2.5945e-13, 1.6759e-05,\n",
              "         1.4505e-12, 9.6553e-04, 2.0884e-07, 1.5108e-12],\n",
              "        [2.6440e-01, 2.2215e-06, 1.6875e-05, 6.7817e-16, 3.8635e-13, 7.3538e-01,\n",
              "         8.7353e-11, 1.9892e-04, 9.1209e-09, 7.5729e-18],\n",
              "        [9.9707e-01, 2.4503e-07, 7.0180e-10, 9.1338e-22, 3.2481e-15, 2.6231e-03,\n",
              "         8.5100e-11, 3.1086e-04, 3.2284e-08, 1.4494e-15],\n",
              "        [4.5266e-01, 1.9633e-02, 1.2895e-04, 8.4594e-18, 6.3678e-16, 5.2751e-01,\n",
              "         9.4948e-13, 6.3142e-06, 6.6442e-05, 3.2207e-16],\n",
              "        [1.3592e-01, 1.4795e-05, 1.5637e-04, 9.8768e-20, 3.5026e-17, 8.6391e-01,\n",
              "         1.8890e-14, 1.8415e-08, 4.0353e-12, 1.3535e-15],\n",
              "        [1.6234e-05, 2.4255e-06, 7.5135e-08, 1.1868e-15, 4.3102e-14, 9.9998e-01,\n",
              "         2.4005e-15, 5.5933e-06, 1.5486e-08, 7.2429e-15],\n",
              "        [9.9982e-01, 5.6365e-09, 1.7253e-04, 4.8647e-26, 1.2462e-11, 2.8311e-06,\n",
              "         4.4615e-14, 2.9010e-11, 1.0321e-13, 2.7741e-15],\n",
              "        [5.4403e-01, 3.8405e-08, 1.0965e-07, 5.6018e-17, 2.0052e-18, 2.9162e-01,\n",
              "         1.1696e-14, 1.0587e-05, 1.6434e-01, 1.0150e-17],\n",
              "        [9.9899e-01, 3.7496e-06, 9.9778e-04, 1.6219e-15, 1.7075e-16, 8.8383e-06,\n",
              "         4.9013e-15, 1.5429e-08, 2.9222e-09, 7.2221e-19],\n",
              "        [9.9600e-01, 1.3587e-09, 5.8214e-05, 4.7014e-21, 6.8799e-18, 3.9438e-03,\n",
              "         3.3528e-18, 2.1363e-11, 3.6483e-10, 4.1277e-22],\n",
              "        [1.1060e-04, 1.2545e-02, 3.0401e-05, 8.6447e-20, 5.6214e-20, 9.8731e-01,\n",
              "         3.3998e-12, 6.9656e-08, 2.3568e-06, 8.3644e-19],\n",
              "        [9.9930e-01, 3.4630e-07, 4.5946e-06, 1.4432e-16, 5.3166e-16, 6.9787e-04,\n",
              "         1.1052e-09, 4.1356e-07, 1.4727e-08, 2.6915e-16],\n",
              "        [7.5739e-01, 9.0629e-07, 2.4090e-01, 7.4179e-14, 5.0430e-15, 1.6890e-03,\n",
              "         2.3729e-10, 1.2066e-05, 1.3833e-05, 8.0493e-18],\n",
              "        [9.9999e-01, 4.9456e-12, 3.5338e-06, 8.9545e-18, 3.3264e-14, 4.2472e-06,\n",
              "         2.5468e-15, 1.1125e-07, 2.7615e-09, 1.6088e-18],\n",
              "        [9.9999e-01, 1.9960e-09, 1.7325e-10, 4.5168e-16, 2.8431e-15, 1.1062e-05,\n",
              "         1.2153e-18, 4.4530e-08, 1.2534e-13, 7.1286e-23],\n",
              "        [9.9999e-01, 8.5463e-11, 1.3106e-08, 4.7533e-19, 5.1199e-17, 3.6125e-07,\n",
              "         1.3237e-17, 7.1386e-06, 4.0203e-11, 1.9933e-20],\n",
              "        [6.1604e-02, 5.6660e-04, 4.4496e-03, 7.0902e-16, 6.0064e-14, 2.9798e-02,\n",
              "         4.7951e-08, 9.0358e-01, 1.2855e-06, 2.4347e-14],\n",
              "        [9.9235e-01, 1.0753e-04, 1.6813e-08, 1.0865e-14, 6.8935e-16, 7.5399e-03,\n",
              "         1.7145e-14, 3.7215e-06, 4.6558e-07, 8.9816e-21],\n",
              "        [9.9791e-01, 3.2565e-04, 6.0801e-04, 8.8426e-13, 1.0200e-14, 1.1537e-03,\n",
              "         3.7349e-17, 1.6051e-06, 2.4122e-08, 1.1732e-14],\n",
              "        [3.1836e-01, 8.3079e-05, 1.4419e-08, 2.1803e-16, 2.7657e-15, 6.8107e-01,\n",
              "         2.4602e-13, 4.8390e-04, 5.2956e-10, 1.5060e-14],\n",
              "        [1.0000e+00, 5.1253e-10, 2.8366e-12, 2.4213e-21, 3.2054e-15, 3.9844e-06,\n",
              "         2.5599e-13, 1.3880e-07, 1.4107e-14, 2.9623e-13],\n",
              "        [9.9823e-01, 1.9506e-08, 4.2282e-05, 1.8972e-15, 9.1666e-14, 1.6633e-03,\n",
              "         1.0065e-09, 6.8343e-05, 6.6521e-14, 1.3549e-15],\n",
              "        [9.8175e-01, 4.4090e-11, 6.0901e-06, 3.8077e-21, 8.7774e-15, 1.8233e-02,\n",
              "         2.3803e-09, 1.1790e-05, 8.5206e-12, 1.1579e-20],\n",
              "        [3.2082e-03, 1.3092e-03, 5.8520e-05, 2.3204e-16, 1.0259e-15, 9.9542e-01,\n",
              "         1.0498e-06, 6.1197e-07, 1.7668e-09, 8.7901e-14],\n",
              "        [6.3271e-01, 4.8971e-05, 5.0785e-06, 3.1316e-25, 1.8231e-14, 3.6722e-01,\n",
              "         2.4503e-14, 1.3204e-05, 1.0367e-07, 2.1051e-19],\n",
              "        [9.9335e-01, 6.1538e-03, 2.0926e-06, 9.7444e-17, 4.1688e-17, 4.9799e-04,\n",
              "         7.1773e-17, 2.2701e-07, 5.7120e-08, 3.4463e-16],\n",
              "        [9.9941e-01, 1.5449e-06, 1.1941e-05, 3.5045e-14, 2.9018e-19, 2.1007e-04,\n",
              "         7.9621e-11, 1.8309e-04, 1.8788e-04, 1.4701e-14],\n",
              "        [9.9996e-01, 9.7045e-06, 1.5492e-06, 6.1277e-17, 2.4226e-16, 2.9770e-05,\n",
              "         2.1769e-12, 6.9261e-07, 9.8628e-10, 1.2173e-18],\n",
              "        [3.1458e-03, 8.4569e-06, 1.0325e-04, 1.3553e-17, 5.0624e-13, 9.9233e-01,\n",
              "         1.2515e-09, 4.4140e-03, 9.6434e-09, 1.5434e-20],\n",
              "        [3.1714e-01, 6.3249e-06, 3.1611e-05, 2.5814e-17, 1.7172e-18, 6.8281e-01,\n",
              "         2.8468e-11, 5.7102e-07, 1.1608e-05, 1.0031e-14],\n",
              "        [7.9199e-01, 9.4340e-07, 2.3885e-03, 2.4131e-14, 1.6537e-11, 2.0406e-01,\n",
              "         2.2069e-12, 1.5525e-03, 1.7552e-06, 1.2835e-21],\n",
              "        [9.8732e-01, 6.8249e-13, 1.7636e-05, 5.0392e-21, 5.9866e-14, 1.2667e-02,\n",
              "         4.8914e-17, 5.3267e-09, 1.4683e-09, 4.6522e-19],\n",
              "        [9.9538e-01, 5.3442e-08, 4.8981e-07, 1.7784e-13, 4.2633e-10, 1.4462e-03,\n",
              "         1.6323e-14, 3.1698e-03, 4.2186e-10, 2.5724e-23],\n",
              "        [3.4702e-06, 5.1933e-12, 6.7554e-07, 1.7729e-22, 5.8111e-20, 1.0000e+00,\n",
              "         6.7412e-14, 2.5659e-11, 1.2277e-13, 4.4509e-21],\n",
              "        [9.9544e-01, 2.1356e-07, 6.0936e-05, 2.2835e-20, 3.8697e-13, 4.3897e-03,\n",
              "         5.0307e-11, 1.0487e-04, 3.2142e-14, 4.1309e-16],\n",
              "        [2.2406e-03, 2.9155e-05, 7.8918e-01, 2.5338e-22, 2.4811e-17, 2.0843e-01,\n",
              "         8.8519e-15, 2.6420e-07, 1.2581e-04, 2.4556e-18],\n",
              "        [3.0401e-09, 4.7325e-08, 3.1255e-06, 2.2172e-26, 8.6735e-21, 1.0000e+00,\n",
              "         2.7824e-14, 1.4971e-12, 2.1888e-16, 3.0344e-17],\n",
              "        [2.1512e-04, 3.1644e-06, 3.8507e-04, 4.0595e-15, 3.7806e-15, 9.9938e-01,\n",
              "         1.6150e-12, 1.1555e-05, 3.3452e-06, 1.3887e-15],\n",
              "        [3.2774e-01, 3.6311e-06, 7.5842e-10, 1.4191e-18, 5.3972e-17, 6.7226e-01,\n",
              "         8.8402e-07, 6.1615e-08, 4.1005e-12, 7.8944e-22],\n",
              "        [2.3574e-01, 1.8557e-02, 2.4556e-03, 5.6547e-12, 7.2086e-17, 7.4325e-01,\n",
              "         3.3498e-10, 8.8593e-08, 2.2509e-08, 4.3735e-16],\n",
              "        [9.8292e-01, 2.5601e-06, 1.3347e-03, 4.6277e-19, 2.9984e-17, 1.5742e-02,\n",
              "         2.5220e-14, 1.5201e-06, 1.9783e-07, 1.1362e-19],\n",
              "        [7.5485e-01, 6.2562e-09, 6.3620e-02, 1.1526e-16, 3.3850e-10, 1.7868e-01,\n",
              "         1.6867e-08, 2.8482e-03, 1.7583e-07, 3.9558e-15],\n",
              "        [1.5967e-03, 2.3542e-05, 3.0605e-05, 3.3609e-18, 1.5837e-18, 9.9835e-01,\n",
              "         6.4578e-16, 1.4084e-06, 4.4800e-10, 1.4384e-20],\n",
              "        [9.9898e-01, 8.2376e-07, 1.4410e-04, 1.2968e-19, 1.4308e-13, 8.6518e-04,\n",
              "         7.6314e-11, 5.4202e-06, 1.9172e-07, 6.9192e-19],\n",
              "        [9.5534e-01, 1.0393e-02, 1.7752e-04, 1.5532e-13, 2.1778e-13, 3.3926e-02,\n",
              "         1.1620e-16, 1.6795e-04, 4.1845e-08, 1.4051e-10],\n",
              "        [4.0021e-02, 2.7481e-08, 4.7404e-10, 7.5011e-17, 2.7638e-16, 9.5991e-01,\n",
              "         2.8887e-14, 3.8123e-05, 3.2154e-05, 5.2360e-18],\n",
              "        [3.3123e-01, 4.9065e-05, 8.6654e-07, 2.3631e-22, 3.0580e-17, 5.4354e-01,\n",
              "         5.8506e-15, 1.2518e-01, 1.6947e-10, 3.3627e-16],\n",
              "        [9.9963e-01, 5.5682e-07, 4.9370e-10, 2.1992e-18, 2.3469e-12, 2.2993e-05,\n",
              "         9.5439e-14, 3.5109e-04, 3.1447e-09, 2.3898e-18],\n",
              "        [1.6280e-07, 9.8903e-01, 1.4492e-07, 9.8629e-15, 1.3574e-14, 1.0822e-02,\n",
              "         1.1652e-11, 1.4885e-04, 2.5682e-10, 3.4943e-20]])"
            ]
          },
          "metadata": {},
          "execution_count": 51
        }
      ]
    },
    {
      "cell_type": "code",
      "source": [
        "from collections import OrderedDict\n",
        "\n",
        "model = nn.Sequential(OrderedDict(\n",
        "  [\n",
        "    ('W1', nn.Linear(784, 256)),\n",
        "    ('sigmoid', nn.Sigmoid()),\n",
        "    ('W2', nn.Linear(256, 10)),\n",
        "    ('softmax', nn.Softmax(dim = 1))\n",
        "  ]\n",
        "))\n",
        "print(model)"
      ],
      "metadata": {
        "colab": {
          "base_uri": "https://localhost:8080/"
        },
        "id": "ocpAeADJX45s",
        "outputId": "14a36788-a786-4c07-d933-55e59767132a"
      },
      "execution_count": null,
      "outputs": [
        {
          "output_type": "stream",
          "name": "stdout",
          "text": [
            "Sequential(\n",
            "  (W1): Linear(in_features=784, out_features=256, bias=True)\n",
            "  (sigmoid): Sigmoid()\n",
            "  (W2): Linear(in_features=256, out_features=10, bias=True)\n",
            "  (softmax): Softmax(dim=1)\n",
            ")\n"
          ]
        }
      ]
    },
    {
      "cell_type": "code",
      "source": [
        "# W1 가중치 행렬의 크기 출력\n",
        "print(model[0].weight.shape)  # 출력: torch.Size([256, 784])\n"
      ],
      "metadata": {
        "colab": {
          "base_uri": "https://localhost:8080/"
        },
        "id": "916E9t1kY_Ud",
        "outputId": "b61f0a9d-14dd-4402-c5e4-df021dae516e"
      },
      "execution_count": null,
      "outputs": [
        {
          "output_type": "stream",
          "name": "stdout",
          "text": [
            "torch.Size([256, 784])\n"
          ]
        }
      ]
    },
    {
      "cell_type": "code",
      "source": [
        "import torch\n",
        "from torch import nn\n",
        "from collections import OrderedDict\n",
        "\n",
        "# 모델 구성\n",
        "model = nn.Sequential(OrderedDict(\n",
        "    [\n",
        "        ('W1', nn.Linear(784, 256)),  # 입력층(784) -> 은닉층(256)\n",
        "        ('sigmoid', nn.Sigmoid()),    # 활성화 함수: Sigmoid\n",
        "        ('W2', nn.Linear(256, 10)),   # 은닉층(256) -> 출력층(10)\n",
        "        ('softmax', nn.Softmax(dim=1)) # 소프트맥스 출력\n",
        "    ]\n",
        "))\n",
        "\n",
        "# W1 가중치 행렬의 크기를 구하여 출력\n",
        "W1_shape = W1.shape  # 첫 번째 레이어의 가중치 크기\n",
        "print(f\"W[1] = ({W1_shape[1]}, {W1_shape[0]})\")  # 원하는 형식으로 출력\n"
      ],
      "metadata": {
        "colab": {
          "base_uri": "https://localhost:8080/"
        },
        "id": "B5TWSj0_aWFW",
        "outputId": "744f3d6d-c342-4ec6-e16b-b69d017fd1b2"
      },
      "execution_count": null,
      "outputs": [
        {
          "output_type": "stream",
          "name": "stdout",
          "text": [
            "W[1] = (256, 784)\n"
          ]
        }
      ]
    },
    {
      "cell_type": "code",
      "source": [
        "W1.shape"
      ],
      "metadata": {
        "colab": {
          "base_uri": "https://localhost:8080/"
        },
        "id": "veQZt8dzbamT",
        "outputId": "6f42a025-a893-4e5c-f2cd-a805c45eea5f"
      },
      "execution_count": null,
      "outputs": [
        {
          "output_type": "execute_result",
          "data": {
            "text/plain": [
              "torch.Size([784, 256])"
            ]
          },
          "metadata": {},
          "execution_count": 68
        }
      ]
    },
    {
      "cell_type": "code",
      "source": [
        "W1_shape = model[0].weight.shape\n",
        "print(f\"W[1] = ({W1_shape[1]}, {W1_shape[0]})\")"
      ],
      "metadata": {
        "colab": {
          "base_uri": "https://localhost:8080/"
        },
        "id": "m_ZQdAidaZFj",
        "outputId": "1a05c923-52d4-4d25-e58c-53cf78596ec8"
      },
      "execution_count": null,
      "outputs": [
        {
          "output_type": "stream",
          "name": "stdout",
          "text": [
            "W[1] = (784, 256)\n"
          ]
        }
      ]
    }
  ]
}